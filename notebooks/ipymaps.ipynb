{
 "cells": [
  {
   "cell_type": "markdown",
   "metadata": {},
   "source": [
    "# So easy, *voilà* IPyMaps!\n",
    "\n",
    "In this example notebook, we demonstrate how voila can render custom interactive maps with built-in search. Try entering something like the following into the search field:\n",
    "\n",
    "- 52.5 13.4\n",
    "- Paris\n",
    "- https://raw.githubusercontent.com/johan/world.geo.json/master/countries.geo.json\n",
    "- berlin_stops (a predefined GeoJSON object)"
   ]
  },
  {
   "cell_type": "code",
   "execution_count": null,
   "metadata": {},
   "outputs": [],
   "source": [
    "import re\n",
    "import os\n",
    "\n",
    "import requests\n",
    "import geojson\n",
    "from ipywidgets import Text, HTML, Layout\n",
    "from ipyleaflet import Map, GeoJSON, WidgetControl, FullScreenControl, LayersControl, ZoomControl, basemaps\n",
    "from geopy.geocoders import Nominatim"
   ]
  },
  {
   "cell_type": "code",
   "execution_count": null,
   "metadata": {},
   "outputs": [],
   "source": [
    "def bbox(coord_list):\n",
    "    \"Find bounding box (lower-left and upper-right points) for a list of coordinates.\"\n",
    "\n",
    "    box = []\n",
    "    for i in (0, 1):\n",
    "        res = sorted(coord_list, key=lambda x:x[i])\n",
    "        box.append((res[0][i], res[-1][i]))\n",
    "    ll, ur = [box[0][0], box[1][0]], [box[0][1], box[1][1]]\n",
    "    return [ll, ur]"
   ]
  },
  {
   "cell_type": "code",
   "execution_count": null,
   "metadata": {},
   "outputs": [],
   "source": [
    "class SearchController:\n",
    "    \"\"\"\n",
    "    A controller acting as a relay between a search field and a map.\n",
    "    \"\"\"\n",
    "    def __init__(self, a_map, a_text, geocoder=None, globs=None):\n",
    "        self.geocoder = geocoder or Nominatim(user_agent=\"ipymaps\")\n",
    "        self.globs = globs or {}\n",
    "        self.a_map = a_map\n",
    "        self.a_text = a_text\n",
    "        self.a_text.on_submit(self.text_changed)\n",
    "        \n",
    "    def text_changed(self, widget):\n",
    "        \"This is called whenever the user hits enter in the search text field.\"\n",
    "\n",
    "        res = self.run_query(widget.value)\n",
    "        if type(res) == tuple:\n",
    "            self.a_map.center = res\n",
    "        elif hasattr(res, '__geo_interface__'):\n",
    "            data = res\n",
    "            # jump to center of data\n",
    "            ll, ur = bbox(list(geojson.utils.coords(data)))\n",
    "            center = [(ur[0]+ll[0])/2, (ur[1]+ll[1])/2]\n",
    "            self.a_map.center = list(reversed(center))\n",
    "            name = os.path.basename(widget.value)\n",
    "            self.a_map.add_layer(GeoJSON(data=data, name=name))\n",
    "            \n",
    "    def add_geojson(self, url):\n",
    "        \"Load a GeoJSON string from the given URL, local or remote.\"\n",
    "\n",
    "        # load data\n",
    "        if url.startswith('file://'):\n",
    "            gj = open(url[7:]).read()\n",
    "        else:\n",
    "            gj = requests.get(url).content\n",
    "        return geojson.loads(gj)\n",
    "        \n",
    "    def run_query(self, text):\n",
    "        \"Run a query as given by the ``text`` string.\"\n",
    "        \n",
    "        text = text.strip()\n",
    "\n",
    "        # GeoJSON objects in passed namespace        \n",
    "        if text in self.globs:\n",
    "            obj = self.globs[text]\n",
    "            if hasattr(obj, '__geo_interface__'):\n",
    "                return obj\n",
    "        \n",
    "        # lat lon\n",
    "        try:\n",
    "            values = re.split('[/,;: ]', text)\n",
    "            lat, lon = [v for v in values if v not in '/,;:']\n",
    "            return tuple(list(map(float, (lat, lon))))\n",
    "        except ValueError:\n",
    "            pass\n",
    "\n",
    "        # URL pointing to some GeoJSON string\n",
    "        url = text\n",
    "        if url.endswith('.geojson') or url.endswith('.geo.json'):\n",
    "            return self.add_geojson(url)\n",
    "\n",
    "        # address to run geolocation on\n",
    "        loc = self.geocoder.geocode(text)\n",
    "        if loc:\n",
    "            center = loc.latitude, loc.longitude\n",
    "            return center"
   ]
  },
  {
   "cell_type": "code",
   "execution_count": null,
   "metadata": {},
   "outputs": [],
   "source": [
    "# provide a default identifer that can be used in the demo UI\n",
    "url = 'https://gist.githubusercontent.com/deeplook/40ae4f4ecd8ec8d4be51/raw/c1dcdf253e47faf8586cffa4e009a705c8c0906b/stops_berlin.geojson'\n",
    "berlin_stops = geojson.loads(requests.get(url).content)"
   ]
  },
  {
   "cell_type": "code",
   "execution_count": null,
   "metadata": {
    "scrolled": false
   },
   "outputs": [],
   "source": [
    "bm = basemaps.OpenStreetMap['Mapnik']\n",
    "m = Map(center=[50, 18], zoom=4,\n",
    "        zoom_control=False,\n",
    "        basemap=bm,\n",
    "        layout=Layout(height='600px'))\n",
    "\n",
    "m.layers[0].name = bm['name']\n",
    "\n",
    "# setup search text field and controller\n",
    "search_tx = Text('')\n",
    "wc = WidgetControl(widget=search_tx, position='topleft')\n",
    "con = SearchController(m, search_tx, globs=globals())\n",
    "\n",
    "# add controls\n",
    "m.add_control(wc)\n",
    "m.add_control(ZoomControl(position='topleft'))\n",
    "m.add_control(FullScreenControl(position='topleft'))\n",
    "m.add_control(LayersControl(position='topright'))\n",
    "\n",
    "m"
   ]
  }
 ],
 "metadata": {
  "kernelspec": {
   "display_name": "Python 3",
   "language": "python",
   "name": "python3"
  },
  "language_info": {
   "codemirror_mode": {
    "name": "ipython",
    "version": 3
   },
   "file_extension": ".py",
   "mimetype": "text/x-python",
   "name": "python",
   "nbconvert_exporter": "python",
   "pygments_lexer": "ipython3",
   "version": "3.7.3"
  }
 },
 "nbformat": 4,
 "nbformat_minor": 2
}

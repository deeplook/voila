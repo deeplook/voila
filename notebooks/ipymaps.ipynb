{
 "cells": [
  {
   "cell_type": "markdown",
   "metadata": {},
   "source": [
    "# So easy, *voilà* IPyMaps!\n",
    "\n",
    "In this example notebook, we demonstrate how voila can render custom interactive maps with built-in search."
   ]
  },
  {
   "cell_type": "code",
   "execution_count": 3,
   "metadata": {},
   "outputs": [],
   "source": [
    "import re\n",
    "import os\n",
    "\n",
    "import requests\n",
    "import geojson\n",
    "from ipywidgets import Text, HTML, Layout\n",
    "from ipyleaflet import Map, GeoJSON, WidgetControl, FullScreenControl, LayersControl\n",
    "from geopy.geocoders import Nominatim"
   ]
  },
  {
   "cell_type": "code",
   "execution_count": 4,
   "metadata": {},
   "outputs": [],
   "source": [
    "class SearchMap(Map):\n",
    "    \"\"\"\n",
    "    This widget provides a simple maps-search UI.\n",
    "    \n",
    "    For now this is a simple wrapper around ipyleaflet.Map mainly adding a search\n",
    "    text field. Depending on the sumitted text one of multiple things can happen\n",
    "    (attempted in the given order):\n",
    "    \n",
    "    1. lat/lon: center the map to the respective coordinates\n",
    "    2. URL ending in '.geojson' or 'geo.json': load and display GeoJSON data\n",
    "    3. text: geolocate address and center the map to the respective coordinates\n",
    "    \"\"\"\n",
    "    def __init__(self, *args, geocoder=None, **kwargs):\n",
    "        self.geocoder = geocoder or Nominatim(user_agent=\"ipymaps\")\n",
    "        \n",
    "        super().__init__(*args, zoom_control=False, **kwargs)\n",
    "        # FIXME: add zoom control again once it can be put below the search field\n",
    "\n",
    "        self.status_control = None\n",
    "\n",
    "        # add search text field\n",
    "        self.search_tx = Text(layout=Layout(width='200px'))\n",
    "        self.search_tx.on_submit(self.text_submitted)\n",
    "        wc = WidgetControl(widget=self.search_tx, position='topleft')\n",
    "        self.add_control(wc)\n",
    "        \n",
    "        # add other controls\n",
    "        self.add_control(FullScreenControl())\n",
    "        self.add_control(LayersControl())\n",
    "\n",
    "    def set_status(self, text):\n",
    "        self.status_tx = HTML(text, layout=Layout(width='50%'))\n",
    "        self.status_control = WidgetControl(widget=self.status_tx, position='bottomleft')\n",
    "        self.add_control(self.status_control)\n",
    "\n",
    "    def reset_status(self):\n",
    "        if self.status_control:\n",
    "            self.remove_control(self.status_control)\n",
    "            self.status_control = None\n",
    "\n",
    "    def text_submitted(self, widget):\n",
    "        self.run_query(widget.value)\n",
    "\n",
    "    def run_query(self, text):\n",
    "        # lat lon\n",
    "        try:\n",
    "            values = re.split('[/,;: ]', text)\n",
    "            lat, lon = [v for v in values if v not in '/,;:']\n",
    "            self.center = lat, lon\n",
    "            return\n",
    "        except ValueError:\n",
    "            pass\n",
    "\n",
    "        # geojson\n",
    "        url = text.strip()\n",
    "        if url.endswith('.geojson') or url.endswith('.geo.json'):\n",
    "            self.set_status('Loading...')\n",
    "            gj = requests.get(url).content\n",
    "            self.reset_status()\n",
    "            data = geojson.loads(gj)\n",
    "            name = os.path.basename(url)\n",
    "            self.add_layer(GeoJSON(data=data, name=name))\n",
    "            return\n",
    "\n",
    "        # simple geolocation\n",
    "        loc = self.geocoder.geocode(text)\n",
    "        self.center = loc.latitude, loc.longitude"
   ]
  },
  {
   "cell_type": "code",
   "execution_count": 6,
   "metadata": {},
   "outputs": [
    {
     "data": {
      "application/vnd.jupyter.widget-view+json": {
       "model_id": "1b7e59a032814f149a2ab7c71ba6f2d1",
       "version_major": 2,
       "version_minor": 0
      },
      "text/plain": [
       "SearchMap(basemap={'url': 'https://{s}.tile.openstreetmap.org/{z}/{x}/{y}.png', 'max_zoom': 19, 'attribution':…"
      ]
     },
     "metadata": {},
     "output_type": "display_data"
    }
   ],
   "source": [
    "SearchMap(center=[52, 13], zoom=4)"
   ]
  },
  {
   "cell_type": "code",
   "execution_count": null,
   "metadata": {},
   "outputs": [],
   "source": []
  }
 ],
 "metadata": {
  "kernelspec": {
   "display_name": "Python 3",
   "language": "python",
   "name": "python3"
  },
  "language_info": {
   "codemirror_mode": {
    "name": "ipython",
    "version": 3
   },
   "file_extension": ".py",
   "mimetype": "text/x-python",
   "name": "python",
   "nbconvert_exporter": "python",
   "pygments_lexer": "ipython3",
   "version": "3.7.3"
  }
 },
 "nbformat": 4,
 "nbformat_minor": 2
}

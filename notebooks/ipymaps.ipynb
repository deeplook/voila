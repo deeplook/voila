{
 "cells": [
  {
   "cell_type": "markdown",
   "metadata": {},
   "source": [
    "# So easy, *voilà* IPyMaps!\n",
    "\n",
    "In this example notebook, we demonstrate how voila can render custom interactive maps with built-in search. Try entering something like the following into the search field:\n",
    "\n",
    "- 52.5 13.4\n",
    "- Paris\n",
    "- https://raw.githubusercontent.com/johan/world.geo.json/master/countries.geo.json\n",
    "- berlin_stops (a predefined GeoJSON object)"
   ]
  },
  {
   "cell_type": "code",
   "execution_count": 1,
   "metadata": {},
   "outputs": [],
   "source": [
    "import re\n",
    "import os\n",
    "\n",
    "import requests\n",
    "import geojson\n",
    "from ipywidgets import Text, HTML, Layout\n",
    "from ipyleaflet import Map, GeoJSON, WidgetControl, FullScreenControl, LayersControl, ZoomControl\n",
    "from geopy.geocoders import Nominatim"
   ]
  },
  {
   "cell_type": "code",
   "execution_count": 2,
   "metadata": {},
   "outputs": [],
   "source": [
    "def bbox(coord_list):\n",
    "    \"Find bounding box (lower-left and upper-right points) for a list of coordinates.\"\n",
    "\n",
    "    box = []\n",
    "    for i in (0, 1):\n",
    "        res = sorted(coord_list, key=lambda x:x[i])\n",
    "        box.append((res[0][i], res[-1][i]))\n",
    "    ll, ur = [box[0][0], box[1][0]], [box[0][1], box[1][1]]\n",
    "    return [ll, ur]"
   ]
  },
  {
   "cell_type": "code",
   "execution_count": 3,
   "metadata": {},
   "outputs": [],
   "source": [
    "class SearchMap(Map):\n",
    "    \"\"\"\n",
    "    This widget is a subclass of ``ipyleaflet.Map`` and adds search functionality.\n",
    "    \n",
    "    This mainly adds a search text field in which the sumitted text is parsed to trigger\n",
    "    one of the following actions (attempted in the given order):\n",
    "    \n",
    "    1. reference: load and display respective object from a given namespace if it's a GeoJSON one \n",
    "    2. lat/lon: center the map to the respective coordinates\n",
    "    3. URL ending in '.geojson' or 'geo.json': load and display GeoJSON data\n",
    "    4. address: geolocate the address and center the map to the respective coordinates\n",
    "    \"\"\"\n",
    "    def __init__(self, *args, geocoder=None, globs=None, **kwargs):\n",
    "        \"\"\"Instantiate widget.\n",
    "        \n",
    "        All parameters are like those for ``ipyleaflet.Map`` plus the following ones:\n",
    "        \n",
    "        - geocoder: a ``geopy.geocoder`` instance,\n",
    "                    default: ``geopy.geocoders.Nominatim(user_agent=\"ipymaps\")``\n",
    "        - globs: a dictionary (namespace) from which references to GeoJSON objects\n",
    "                    will be looked up\n",
    "        \"\"\"\n",
    "        self.geocoder = geocoder or Nominatim(user_agent=\"ipymaps\")\n",
    "        self.globs = globs or {}\n",
    "\n",
    "        super().__init__(*args, zoom_control=False, **kwargs)\n",
    "        # FIXME: add zoom control again once it can be put below the search field\n",
    "\n",
    "        self.status_control = None\n",
    "\n",
    "        # add search text field\n",
    "        self.search_tx = Text(layout=Layout(width='200px'))\n",
    "        self.search_tx.on_submit(self._text_submitted)\n",
    "        wc = WidgetControl(widget=self.search_tx, position='topleft')\n",
    "        self.add_control(wc)\n",
    "        \n",
    "        # add other controls\n",
    "        self.add_control(ZoomControl(position='topleft'))\n",
    "        self.add_control(FullScreenControl(position='topleft'))\n",
    "        self.add_control(LayersControl(position='topright'))\n",
    "\n",
    "    def _text_submitted(self, widget):\n",
    "        \"Callback method called when text was submitted in the search text field.\"\n",
    "\n",
    "        self.run_query(widget.value)\n",
    "\n",
    "    def set_status(self, text):\n",
    "        \"Show a status text in HTML in the bottom left corner.\"\n",
    "\n",
    "        self.status_tx = HTML(text, layout=Layout(width='50%'))\n",
    "        self.status_control = WidgetControl(widget=self.status_tx, position='bottomleft')\n",
    "        self.add_control(self.status_control)\n",
    "\n",
    "    def reset_status(self):\n",
    "        \"Remove status text in the bottom left corner.\"\n",
    "\n",
    "        if self.status_control:\n",
    "            self.remove_control(self.status_control)\n",
    "            self.status_control = None\n",
    "\n",
    "    def add_geojson(self, url):\n",
    "        \"Load a GeoJSON string from the given URL and display on the map.\"\n",
    "\n",
    "        # load data\n",
    "        self.set_status('Loading...')\n",
    "        if url.startswith('file://'):\n",
    "            gj = open(url[7:]).read()\n",
    "        else:\n",
    "            gj = requests.get(url).content\n",
    "        data = geojson.loads(gj)\n",
    "        self.reset_status()\n",
    "        \n",
    "        # jump to center of data\n",
    "        ll, ur = bbox(list(geojson.utils.coords(data)))\n",
    "        center = [(ur[0]+ll[0])/2, (ur[1]+ll[1])/2]\n",
    "        self.center = list(reversed(center))\n",
    "        name = os.path.basename(url)\n",
    "        self.add_layer(GeoJSON(data=data, name=name))\n",
    "\n",
    "    def run_query(self, text):\n",
    "        \"Run a query as given by the ``text`` string.\"\n",
    "        \n",
    "        self.reset_status()\n",
    "        text = text.strip()\n",
    "\n",
    "        # GeoJSON objects in passed namespace        \n",
    "        if text in self.globs:\n",
    "            obj = self.globs[text]\n",
    "            if hasattr(obj, '__geo_interface__'):\n",
    "                self.add_layer(GeoJSON(data=obj, name=text))\n",
    "                return\n",
    "\n",
    "        # lat lon\n",
    "        try:\n",
    "            values = re.split('[/,;: ]', text)\n",
    "            lat, lon = [v for v in values if v not in '/,;:']\n",
    "            self.center = lat, lon\n",
    "            return\n",
    "        except ValueError:\n",
    "            pass\n",
    "\n",
    "        # URL pointing to some GeoJSON string\n",
    "        url = text\n",
    "        if url.endswith('.geojson') or url.endswith('.geo.json'):\n",
    "            self.add_geojson(url)\n",
    "            return\n",
    "\n",
    "        # address to run geolocation on\n",
    "        loc = self.geocoder.geocode(text)\n",
    "        if loc:\n",
    "            self.center = loc.latitude, loc.longitude\n",
    "        else:\n",
    "            self.set_status('Not found') "
   ]
  },
  {
   "cell_type": "code",
   "execution_count": 4,
   "metadata": {},
   "outputs": [],
   "source": [
    "# provide a default identifer that can be used in the demo UI\n",
    "url = 'https://gist.githubusercontent.com/deeplook/40ae4f4ecd8ec8d4be51/raw/c1dcdf253e47faf8586cffa4e009a705c8c0906b/stops_berlin.geojson'\n",
    "berlin_stops = geojson.loads(requests.get(url).content)"
   ]
  },
  {
   "cell_type": "code",
   "execution_count": 6,
   "metadata": {},
   "outputs": [
    {
     "data": {
      "application/vnd.jupyter.widget-view+json": {
       "model_id": "37270398a1c9440fb1424088adc3c98f",
       "version_major": 2,
       "version_minor": 0
      },
      "text/plain": [
       "SearchMap(basemap={'url': 'https://{s}.tile.openstreetmap.org/{z}/{x}/{y}.png', 'max_zoom': 19, 'attribution':…"
      ]
     },
     "metadata": {},
     "output_type": "display_data"
    }
   ],
   "source": [
    "SearchMap(center=[52, 13], zoom=4, globs=globals())"
   ]
  }
 ],
 "metadata": {
  "kernelspec": {
   "display_name": "Python 3",
   "language": "python",
   "name": "python3"
  },
  "language_info": {
   "codemirror_mode": {
    "name": "ipython",
    "version": 3
   },
   "file_extension": ".py",
   "mimetype": "text/x-python",
   "name": "python",
   "nbconvert_exporter": "python",
   "pygments_lexer": "ipython3",
   "version": "3.7.3"
  }
 },
 "nbformat": 4,
 "nbformat_minor": 2
}

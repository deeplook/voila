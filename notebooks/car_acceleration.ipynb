{
 "cells": [
  {
   "cell_type": "markdown",
   "metadata": {},
   "source": [
    "# Car Acceleration\n",
    "\n",
    "For all those interested in buying high performance electric cars.\n",
    "\n",
    "- How fast does my car accelerate from 0-100 $km/h$ in 5 $s$?\n",
    "- How does that compare to Earth's gravitation?\n",
    "- How far does it drive in that time?\n",
    "\n",
    "Example: Reaching a speed of 100 $km/h$ in 2.83 $s$ means an acceleration equal to 9.81 $m/s^2$ or 1 $g$.\n",
    "\n",
    "Notes:\n",
    "\n",
    "- The Space Shuttle used accelerations around 3 $g$.\n",
    "- An acceleration of 7 $g$ or higher is considered lethal for the human body."
   ]
  },
  {
   "cell_type": "code",
   "execution_count": 1,
   "metadata": {},
   "outputs": [],
   "source": [
    "from math import sqrt\n",
    "\n",
    "from ipywidgets import FloatSlider, VBox, HBox, Layout, HTML, Button"
   ]
  },
  {
   "cell_type": "code",
   "execution_count": 2,
   "metadata": {},
   "outputs": [],
   "source": [
    "g = 9.81  # m/s^2"
   ]
  },
  {
   "cell_type": "code",
   "execution_count": 3,
   "metadata": {},
   "outputs": [],
   "source": [
    "v = 100 * 1000 / 3600  # 100 km/h\n",
    "t = 20  # s\n",
    "a = v / t\n",
    "s = 0.5 * a * t**2"
   ]
  },
  {
   "cell_type": "code",
   "execution_count": 4,
   "metadata": {},
   "outputs": [],
   "source": [
    "l = Layout(width='500px')\n",
    "slider_time = FloatSlider(description='time', min=0, max=20, value=t, layout=l) # 0-20 secs to reach 100 km/h\n",
    "slider_dist = FloatSlider(description='dist.', min=0, max=277.78, value=s, layout=l)\n",
    "slider_accel_si = FloatSlider(description='accel.', min=0, max=70, value=a, layout=l) # m/s^2\n",
    "slider_accel_g = FloatSlider(description='accel.', min=0, max=7.14, value=a / g, layout=l) # g"
   ]
  },
  {
   "cell_type": "code",
   "execution_count": 5,
   "metadata": {},
   "outputs": [],
   "source": [
    "def changed_time(*dummy):\n",
    "    \"Compute values from new time in s.\"\n",
    "    slider_accel_si.value = v / slider_time.value\n",
    "    slider_dist.value = 1/2 * slider_accel_si.value * slider_time.value ** 2\n",
    "\n",
    "def changed_dist(*dummy):\n",
    "    \"Compute values from new dist in m.\"\n",
    "    slider_time.value = sqrt(2 * slider_dist.value / slider_accel_si.value)\n",
    "\n",
    "def changed_accel_si(*dummy):\n",
    "    \"Compute values from new accel in m/s**2.\"\n",
    "    slider_time.value = v / slider_accel_si.value\n",
    "    slider_accel_g.value = slider_accel_si.value / g\n",
    "\n",
    "def changed_accel_g(*dummy):\n",
    "    \"Compute values from new accel in g.\"\n",
    "    slider_time.value = v / (slider_accel_g.value * g)\n",
    "    slider_accel_si.value = slider_accel_g.value * g\n",
    "\n",
    "slider_time.observe(changed_time, 'value')\n",
    "slider_dist.observe(changed_dist, 'value')\n",
    "slider_accel_si.observe(changed_accel_si, 'value')\n",
    "slider_accel_g.observe(changed_accel_g, 'value')"
   ]
  },
  {
   "cell_type": "code",
   "execution_count": 6,
   "metadata": {},
   "outputs": [],
   "source": [
    "def set_time(btn):\n",
    "    \"Use sending button's time value in respective slider.\"\n",
    "    slider_time.value = btn.accel\n",
    "\n",
    "model_times = {\n",
    "    # model: time (s) to reach 100 km/h\n",
    "    'Tesla 3': 5.6, \n",
    "    'Tesla X': 4.5, \n",
    "    'Tesla Y': 3.7, \n",
    "    'Tesla S': 2.6, \n",
    "    'Tesla Roadster 2': 2.1, \n",
    "    'Rimac Concept 2': 1.97,\n",
    "    'Space Shuttle': 0.94,\n",
    "}\n",
    "buttons = []\n",
    "for model, time in model_times.items():\n",
    "    b = Button(description=model)\n",
    "    b.accel = time\n",
    "    b.on_click(set_time)\n",
    "    buttons.append(b)\n",
    "boxes = HBox(buttons)"
   ]
  },
  {
   "cell_type": "code",
   "execution_count": 7,
   "metadata": {},
   "outputs": [],
   "source": [
    "sliders = VBox([\n",
    "        HTML(f'<strong>Acceleration to reach 0-{v / 1000 * 3600:.0f} km/h (0-{v:.2f} m/s)</strong>:'),\n",
    "        HBox([slider_time, HTML('s')]),\n",
    "        HBox([slider_dist, HTML('m')]),\n",
    "        HBox([slider_accel_si, HTML('m/s^2')]),\n",
    "        HBox([slider_accel_g, HTML('g')]),\n",
    "    ],\n",
    "    layout=Layout(width='800px')\n",
    ")"
   ]
  },
  {
   "cell_type": "code",
   "execution_count": 8,
   "metadata": {},
   "outputs": [
    {
     "data": {
      "application/vnd.jupyter.widget-view+json": {
       "model_id": "f560919ed75c4992a58cce05faa2e860",
       "version_major": 2,
       "version_minor": 0
      },
      "text/plain": [
       "VBox(children=(VBox(children=(HTML(value='<strong>Acceleration to reach 0-100 km/h (0-27.78 m/s)</strong>:'), …"
      ]
     },
     "metadata": {},
     "output_type": "display_data"
    }
   ],
   "source": [
    "VBox([sliders, boxes])"
   ]
  }
 ],
 "metadata": {
  "kernelspec": {
   "display_name": "Python 3",
   "language": "python",
   "name": "python3"
  },
  "language_info": {
   "codemirror_mode": {
    "name": "ipython",
    "version": 3
   },
   "file_extension": ".py",
   "mimetype": "text/x-python",
   "name": "python",
   "nbconvert_exporter": "python",
   "pygments_lexer": "ipython3",
   "version": "3.7.3"
  }
 },
 "nbformat": 4,
 "nbformat_minor": 2
}

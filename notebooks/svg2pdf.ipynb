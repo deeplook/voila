{
 "cells": [
  {
   "cell_type": "markdown",
   "metadata": {},
   "source": [
    "# Render SVG to PDF\n",
    "\n",
    "Some experiments about converting SVG directly inside Jupyter cells (embedded in HTML) to PDF via https://github.com/deeplook/svglib and rendered by https://mozilla.github.io/pdf.js/. It turns out this could be a PDF widget in ipywidgets that shows an IFrame, which is not ideal, but quite usable for now."
   ]
  },
  {
   "cell_type": "code",
   "execution_count": null,
   "metadata": {},
   "outputs": [],
   "source": [
    "import os\n",
    "import io\n",
    "import shutil\n",
    "import zipfile\n",
    "import tempfile\n",
    "import http.server\n",
    "import socketserver\n",
    "from os.path import join, basename, dirname, splitext, exists, abspath\n",
    "from multiprocessing import Process\n",
    "\n",
    "import requests\n",
    "from IPython.display import IFrame\n",
    "from ipywidgets import HBox, VBox, HTML, Textarea, Layout, Button, Output\n",
    "from svglib.svglib import svg2rlg"
   ]
  },
  {
   "cell_type": "markdown",
   "metadata": {},
   "source": [
    "## Install pdf.js"
   ]
  },
  {
   "cell_type": "code",
   "execution_count": null,
   "metadata": {},
   "outputs": [],
   "source": [
    "if not exists('pdfjs-2.0.943-dist'):\n",
    "    url = 'https://github.com/mozilla/pdf.js/releases/download/v2.0.943/pdfjs-2.0.943-dist.zip'\n",
    "    z = requests.get(url).content\n",
    "    zf = zipfile.ZipFile(io.BytesIO(z))\n",
    "    zf.extractall('pdfjs-2.0.943-dist')"
   ]
  },
  {
   "cell_type": "markdown",
   "metadata": {},
   "source": [
    "## Smoke-test pdf.js in simple ipywidgets.IFrame\n",
    "\n",
    "Run `python3 -m http.server <port>` in the respective directory, first... (you cannot run it inside Jupyter as it would block.)"
   ]
  },
  {
   "cell_type": "code",
   "execution_count": null,
   "metadata": {},
   "outputs": [],
   "source": [
    "# test\n",
    "if 0:\n",
    "    url = 'http://localhost:8000/web/viewer.html'  # ?file=myfile.pdf\n",
    "    ifr = IFrame(src=url, width=1000, height=300)\n",
    "    ifr"
   ]
  },
  {
   "cell_type": "markdown",
   "metadata": {},
   "source": [
    "## Utils"
   ]
  },
  {
   "cell_type": "code",
   "execution_count": null,
   "metadata": {},
   "outputs": [],
   "source": [
    "# Actually, we should not use this server, but use Jupyter instead\n",
    "# to serve the pdf.js stuff... Iff Jupyter doesn't block that... :(\n",
    "# Maybe classic doesn't...\n",
    "\n",
    "class WebServer:\n",
    "    \"\"\"\n",
    "    A minimal webserver to serve static files running in its own process.\n",
    "    \"\"\"\n",
    "    def __init__(self, directory=None, port=8000):\n",
    "        self.directory = directory\n",
    "        self.port = port\n",
    "\n",
    "    def start(self):\n",
    "        self.process = Process(target=self.run)\n",
    "        self.process.start()\n",
    "\n",
    "    def terminate(self):\n",
    "        self.process.terminate()\n",
    "\n",
    "    def run(self):\n",
    "        # Changing the directory is essential to keep the code below short.\n",
    "        os.chdir(self.directory)  \n",
    "        \n",
    "        Handler = http.server.SimpleHTTPRequestHandler\n",
    "        with socketserver.TCPServer((\"\", self.port), Handler) as httpd:\n",
    "            print(f\"serving {self.directory} on port\", self.port)\n",
    "            httpd.serve_forever()"
   ]
  },
  {
   "cell_type": "code",
   "execution_count": null,
   "metadata": {},
   "outputs": [],
   "source": [
    "class PDFFrame(IFrame):\n",
    "    \"\"\"\n",
    "    An IFrame that shows a PDF file rendered by a local installation of pdf.js.\n",
    "    \n",
    "    See https://mozilla.github.io/pdf.js/\n",
    "    \"\"\"\n",
    "    def __init__(self, *args, pdfjs_path=None, pdf_path=None, port=None, **kwargs):\n",
    "        \"\"\"\n",
    "        Create an IFrame instance showing a PDF file rendered by pdf.js.\n",
    "        \n",
    "        This will copy the PDF file to be rendered into the static web folder\n",
    "        first, under a unique new filename to prevent caching issues with pdf.js.\n",
    "    \n",
    "        The result is an IFrame object with a src attribute set to:\n",
    "        \n",
    "            /my/file.pdf\n",
    "            http://localhost:{port}/web/viewer.html?file=file.pdf\n",
    "        \n",
    "        Example:\n",
    "\n",
    "        >>> ifr = PDFFrame(pdfjs_path='/Downloads/pdfjs-2.0.943-dist',\n",
    "        ...                pdf_path='/my/file.pdf',\n",
    "        ...                port=8000)\n",
    "        >>> ifr.src\n",
    "        http://localhost:8000/web/viewer.html?file=file.pdf\n",
    "        \"\"\"\n",
    "        assert pdfjs_path and exists(pdfjs_path)\n",
    "        assert pdf_path and exists(pdf_path)\n",
    "        assert port\n",
    "        \n",
    "        server_url = f'http://localhost:{port}/web/viewer.html'  # FIXME: use simpler template\n",
    "\n",
    "        # Copy the PDF file into pdf.js' 'web' folder for static files.\n",
    "        prefix = splitext(basename(pdf_path))[0] + '.'\n",
    "        dir = join(pdfjs_path, 'web')\n",
    "        f = tempfile.NamedTemporaryFile(prefix=prefix, suffix='.pdf', dir=dir, delete=False)\n",
    "        dst = shutil.copyfile(pdf_path, f.name)\n",
    "        \n",
    "        url = f'{server_url}?file={basename(dst)}'\n",
    "        super().__init__(src=url, *args, **kwargs)"
   ]
  },
  {
   "cell_type": "code",
   "execution_count": null,
   "metadata": {},
   "outputs": [],
   "source": [
    "# test\n",
    "if 0:\n",
    "    ifr = PDFFrame(pdfjs_path='pdfjs-2.0.943-dist',\n",
    "                   pdf_path='pdfjs-2.0.943-dist/web/compressed.tracemonkey-pldi-09.pdf',\n",
    "                   port=8000,\n",
    "                   width=500, height=500)\n",
    "    print(ifr.src)\n",
    "    display(ifr)"
   ]
  },
  {
   "cell_type": "code",
   "execution_count": null,
   "metadata": {},
   "outputs": [],
   "source": [
    "class PDF(HTML):\n",
    "    \"\"\"\n",
    "    A PDF ipywidget that displays the HTML of an IFrame ipywidget rendering PDF inside.\n",
    "    \"\"\"\n",
    "    def __init__(self, *args, **kwargs):\n",
    "        if args:\n",
    "            assert type(args[0]) == PDFFrame\n",
    "        args = [args[0]._repr_html_()] + list(args[1:]) if args else []\n",
    "        super().__init__(*args, **kwargs)"
   ]
  },
  {
   "cell_type": "code",
   "execution_count": null,
   "metadata": {},
   "outputs": [],
   "source": [
    "def convert_svg(svg: str, path: str):\n",
    "    \"\"\"\n",
    "    Convert some SVG source to PDF and write it to a file with given path. \n",
    "    \"\"\"\n",
    "    d = svg2rlg(io.BytesIO(bytes(svg_code, encoding='utf8')))\n",
    "    fnRoot = os.path.splitext(os.path.basename(path))[0]\n",
    "    outDir = os.path.dirname(path)\n",
    "    d.save(formats=['pdf'], fnRoot=fnRoot, outDir=outDir)\n",
    "    pdf_code = open(path, 'rb').read()\n",
    "    return pdf_code  # FIXME: maybe also return drawing's width/height"
   ]
  },
  {
   "cell_type": "markdown",
   "metadata": {},
   "source": [
    "## Start webserver"
   ]
  },
  {
   "cell_type": "code",
   "execution_count": null,
   "metadata": {},
   "outputs": [],
   "source": [
    "directory = f'{os.getcwd()}/pdfjs-2.0.943-dist'\n",
    "port = 8008"
   ]
  },
  {
   "cell_type": "code",
   "execution_count": null,
   "metadata": {},
   "outputs": [],
   "source": [
    "w = WebServer(directory=directory, port=port)\n",
    "w.start()"
   ]
  },
  {
   "cell_type": "markdown",
   "metadata": {},
   "source": [
    "## Show SVG-PDF UI"
   ]
  },
  {
   "cell_type": "code",
   "execution_count": null,
   "metadata": {},
   "outputs": [],
   "source": [
    "def update(*args):\n",
    "    \"\"\"\n",
    "    Update the SVG-PDF UI.\n",
    "    \"\"\"\n",
    "    global svg_ta, svg_ht, svg_code\n",
    "    \n",
    "    # take SVG code, update SVG visual\n",
    "    svg_code = svg_ta.value\n",
    "    svg_ht.value = svg_code\n",
    "\n",
    "    # convert SVG code and save as bar1.pdf\n",
    "    pdf_name = 'svg2pdf.pdf'\n",
    "    pdf_path = f'{os.getcwd()}/pdfjs-2.0.943-dist/web/{pdf_name}'\n",
    "    pdf_code = convert_svg(svg_ta.value, pdf_path)\n",
    "\n",
    "    # update PDF code\n",
    "    pdf_ta.value = str(pdf_code)\n",
    "\n",
    "    # update PDF visual\n",
    "    pdf_iframe = PDFFrame(pdfjs_path=directory,\n",
    "                          pdf_path=pdf_path,\n",
    "                          port=port, \n",
    "                          width=400, height=300)\n",
    "    pdf_ht = HTML(pdf_iframe._repr_html_(), description='PDF', layout=layout)\n",
    "    ui.children[-1].children = tuple(list(ui.children[-1].children[:-1]) + [pdf_ht])"
   ]
  },
  {
   "cell_type": "code",
   "execution_count": null,
   "metadata": {
    "scrolled": false
   },
   "outputs": [],
   "source": [
    "btn = Button(description='Render')\n",
    "btn.on_click(update)\n",
    "\n",
    "layout = Layout(width='400px', height='300px')\n",
    "\n",
    "# SVG\n",
    "svg_code = '''\\\n",
    "<svg height=\"100\" width=\"100\">\n",
    "  <circle cx=\"50\" cy=\"50\" r=\"40\" stroke=\"black\"\n",
    "          stroke-width=\"3\" fill=\"yellow\" />\n",
    "  Sorry, your browser does not support inline SVG.  \n",
    "</svg>\n",
    "'''\n",
    "svg_ta = Textarea(svg_code, description='SVG', layout=layout)\n",
    "svg_ht = HTML('Not converted yet', description='SVG', layout=layout)\n",
    "\n",
    "pdf_ta = Textarea('Not converted yet', description='PDF', layout=layout, disabled=True)\n",
    "pdf_ht = HTML('Not converted yet', description='PDF', layout=layout)\n",
    "\n",
    "# display\n",
    "row0 = HBox([btn])\n",
    "row1 = HBox([svg_ta, pdf_ta])\n",
    "row2 = HBox([svg_ht, pdf_ht])\n",
    "ui = VBox([row0, row1, row2], layout=Layout(width='100%', height='600px'))\n",
    "ui"
   ]
  },
  {
   "cell_type": "code",
   "execution_count": null,
   "metadata": {},
   "outputs": [],
   "source": [
    "# w.process.terminate()"
   ]
  },
  {
   "cell_type": "markdown",
   "metadata": {},
   "source": [
    "## Test pdf.js with custom webserver in IFrame subclass"
   ]
  },
  {
   "cell_type": "code",
   "execution_count": null,
   "metadata": {
    "scrolled": true
   },
   "outputs": [],
   "source": [
    "if 0:\n",
    "    directory = 'pdfjs-2.0.943-dist/'\n",
    "    w = WebServer(directory=directory, port=8003)\n",
    "    w.start()\n",
    "\n",
    "    pdf_path = '/my/file.pdf'\n",
    "    pdffr = PDFFrame(pdfjs_path=directory, pdf_path=pdf_path, port=port,\n",
    "                     width=400, height=600)\n",
    "    h = HTML(pdffr._repr_html_())\n",
    "    HBox([h, h])\n",
    "\n",
    "    w.process.terminate()"
   ]
  }
 ],
 "metadata": {
  "kernelspec": {
   "display_name": "Python 3",
   "language": "python",
   "name": "python3"
  },
  "language_info": {
   "codemirror_mode": {
    "name": "ipython",
    "version": 3
   },
   "file_extension": ".py",
   "mimetype": "text/x-python",
   "name": "python",
   "nbconvert_exporter": "python",
   "pygments_lexer": "ipython3",
   "version": "3.7.3"
  }
 },
 "nbformat": 4,
 "nbformat_minor": 4
}
